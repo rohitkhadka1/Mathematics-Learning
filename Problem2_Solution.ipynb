{
 "cells": [
  {
   "cell_type": "code",
   "execution_count": 5,
   "id": "2e317495",
   "metadata": {},
   "outputs": [],
   "source": [
    "import numpy as np\n",
    "import sympy as sp "
   ]
  },
  {
   "cell_type": "code",
   "execution_count": null,
   "id": "824b0e07",
   "metadata": {},
   "outputs": [],
   "source": [
    "# Let's define the matrix \n",
    "A = [\n",
    "  [1, 2, 3, 4, 5],\n",
    "  [2, 4, 6, 8, 10],\n",
    "  [1, 0, 1, 0, 1],\n",
    "  [3, 6, 9, 12, 15]\n",
    "]"
   ]
  },
  {
   "cell_type": "code",
   "execution_count": 6,
   "id": "ee417e06",
   "metadata": {},
   "outputs": [],
   "source": [
    "A_sp = sp.Matrix([\n",
    "    [1,2,3,4,5],\n",
    "    [2, 4, 6, 8, 10],\n",
    "  [1, 0, 1, 0, 1],\n",
    "  [3, 6, 9, 12, 15]\n",
    "])"
   ]
  },
  {
   "cell_type": "code",
   "execution_count": 7,
   "id": "5ac936b7",
   "metadata": {},
   "outputs": [
    {
     "name": "stdout",
     "output_type": "stream",
     "text": [
      "Matrix([[1, 2, 3, 4, 5], [2, 4, 6, 8, 10], [1, 0, 1, 0, 1], [3, 6, 9, 12, 15]])\n"
     ]
    }
   ],
   "source": [
    "print(A_sp)"
   ]
  },
  {
   "cell_type": "markdown",
   "id": "68546afb",
   "metadata": {},
   "source": [
    "Question 1:\n",
    " Column Space (C(A))\n",
    "   - Find a basis for the column space of A.\n",
    "   - What is the dimension of the column space?\n",
    "   - What does this tell you about the effective number of features?"
   ]
  },
  {
   "cell_type": "code",
   "execution_count": 8,
   "id": "40e86e91",
   "metadata": {},
   "outputs": [
    {
     "name": "stdout",
     "output_type": "stream",
     "text": [
      "Column Space Basis:\n",
      "[[-0.25819889 -0.06900656]\n",
      " [-0.51639778 -0.13801311]\n",
      " [-0.25819889  0.96609178]\n",
      " [-0.77459667 -0.20701967]]\n"
     ]
    }
   ],
   "source": [
    "def column_space(A, tol=1e-10):\n",
    "    Q, R = np.linalg.qr(A)\n",
    "    rank = np.linalg.matrix_rank(R, tol=tol)\n",
    "    return Q[:, :rank]\n",
    "\n",
    "print(\"Column Space Basis:\")\n",
    "print(column_space(A))"
   ]
  },
  {
   "cell_type": "code",
   "execution_count": 9,
   "id": "c566b7c5",
   "metadata": {},
   "outputs": [],
   "source": [
    "# Column space calculation using sympy library \n",
    "column_space_basis = A_sp.columnspace()"
   ]
  },
  {
   "cell_type": "code",
   "execution_count": 15,
   "id": "68460220",
   "metadata": {},
   "outputs": [
    {
     "name": "stdout",
     "output_type": "stream",
     "text": [
      "⎡1⎤\n",
      "⎢ ⎥\n",
      "⎢2⎥\n",
      "⎢ ⎥\n",
      "⎢1⎥\n",
      "⎢ ⎥\n",
      "⎣3⎦\n",
      "⎡2⎤\n",
      "⎢ ⎥\n",
      "⎢4⎥\n",
      "⎢ ⎥\n",
      "⎢0⎥\n",
      "⎢ ⎥\n",
      "⎣6⎦\n"
     ]
    }
   ],
   "source": [
    "for vec in column_space_basis:\n",
    "    sp.pprint(vec)"
   ]
  },
  {
   "cell_type": "markdown",
   "id": "1e8b9771",
   "metadata": {},
   "source": [
    "From the above result we can infer that the dimension of column space is 4 * 2.\n",
    "And also out of 5 columns, only 2 are effective and give varying directions"
   ]
  },
  {
   "cell_type": "markdown",
   "id": "577c946b",
   "metadata": {},
   "source": [
    "Question 2:\n",
    "Null Space (N(A))\n",
    "   - Find a basis for the null space of A, i.e., solve A·x = 0.\n",
    "   - Interpret this in terms of feature redundancy."
   ]
  },
  {
   "cell_type": "code",
   "execution_count": 12,
   "id": "e287af2e",
   "metadata": {},
   "outputs": [
    {
     "name": "stdout",
     "output_type": "stream",
     "text": [
      "⎡-1⎤\n",
      "⎢  ⎥\n",
      "⎢-1⎥\n",
      "⎢  ⎥\n",
      "⎢1 ⎥\n",
      "⎢  ⎥\n",
      "⎢0 ⎥\n",
      "⎢  ⎥\n",
      "⎣0 ⎦\n",
      "⎡0 ⎤\n",
      "⎢  ⎥\n",
      "⎢-2⎥\n",
      "⎢  ⎥\n",
      "⎢0 ⎥\n",
      "⎢  ⎥\n",
      "⎢1 ⎥\n",
      "⎢  ⎥\n",
      "⎣0 ⎦\n",
      "⎡-1⎤\n",
      "⎢  ⎥\n",
      "⎢-2⎥\n",
      "⎢  ⎥\n",
      "⎢0 ⎥\n",
      "⎢  ⎥\n",
      "⎢0 ⎥\n",
      "⎢  ⎥\n",
      "⎣1 ⎦\n"
     ]
    }
   ],
   "source": [
    "null_space = A_sp.nullspace()\n",
    "for vec in null_space:\n",
    "    sp.pprint(vec)"
   ]
  },
  {
   "cell_type": "markdown",
   "id": "67d15dba",
   "metadata": {},
   "source": [
    "Question 3"
   ]
  },
  {
   "cell_type": "code",
   "execution_count": 16,
   "id": "6ea89a21",
   "metadata": {},
   "outputs": [
    {
     "name": "stdout",
     "output_type": "stream",
     "text": [
      "[[1  2  3  4  5], [0  -2  -2  -4  -4]]\n",
      "[[1  2  3  4  5], [0  -2  -2  -4  -4]]\n"
     ]
    }
   ],
   "source": [
    "row_space = A_sp.rowspace()\n",
    "for vec in row_space:\n",
    "    sp.pprint(row_space)"
   ]
  },
  {
   "cell_type": "markdown",
   "id": "5d0a0b56",
   "metadata": {},
   "source": [
    "Question 4"
   ]
  },
  {
   "cell_type": "code",
   "execution_count": 22,
   "id": "9ad49b40",
   "metadata": {},
   "outputs": [
    {
     "name": "stdout",
     "output_type": "stream",
     "text": [
      "Left Null Space Basis:\n",
      "⎡-2⎤\n",
      "⎢  ⎥\n",
      "⎢1 ⎥\n",
      "⎢  ⎥\n",
      "⎢0 ⎥\n",
      "⎢  ⎥\n",
      "⎣0 ⎦\n",
      "⎡-3⎤\n",
      "⎢  ⎥\n",
      "⎢0 ⎥\n",
      "⎢  ⎥\n",
      "⎢0 ⎥\n",
      "⎢  ⎥\n",
      "⎣1 ⎦\n"
     ]
    }
   ],
   "source": [
    "print(\"Left Null Space Basis:\")\n",
    "left_null_space = A_sp.T.nullspace()\n",
    "for vec in left_null_space:\n",
    "    sp.pprint(vec)\n"
   ]
  }
 ],
 "metadata": {
  "kernelspec": {
   "display_name": "Python 3",
   "language": "python",
   "name": "python3"
  },
  "language_info": {
   "codemirror_mode": {
    "name": "ipython",
    "version": 3
   },
   "file_extension": ".py",
   "mimetype": "text/x-python",
   "name": "python",
   "nbconvert_exporter": "python",
   "pygments_lexer": "ipython3",
   "version": "3.13.5"
  }
 },
 "nbformat": 4,
 "nbformat_minor": 5
}
