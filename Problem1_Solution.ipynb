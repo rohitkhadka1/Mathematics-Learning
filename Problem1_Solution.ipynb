{
 "cells": [
  {
   "cell_type": "code",
   "execution_count": null,
   "id": "f53e1409",
   "metadata": {},
   "outputs": [],
   "source": [
    "# Import necessary libraries \n",
    "import numpy as np\n",
    "import matplotlib.pyplot as plt"
   ]
  },
  {
   "cell_type": "code",
   "execution_count": 25,
   "id": "0fc7c5b6",
   "metadata": {},
   "outputs": [
    {
     "name": "stdout",
     "output_type": "stream",
     "text": [
      "2.3.1\n"
     ]
    }
   ],
   "source": [
    "print(np.__version__)"
   ]
  },
  {
   "cell_type": "code",
   "execution_count": 4,
   "id": "1b49bb4e",
   "metadata": {},
   "outputs": [],
   "source": [
    "A = np.array([0,0])\n",
    "B = np.array([1,0])\n",
    "C = np.array([0,1])"
   ]
  },
  {
   "cell_type": "code",
   "execution_count": 5,
   "id": "21fece68",
   "metadata": {},
   "outputs": [],
   "source": [
    "# Transformation matrix\n",
    "T = np.array([[2,1], [1,3]])"
   ]
  },
  {
   "cell_type": "markdown",
   "id": "8f3b214f",
   "metadata": {},
   "source": [
    "Question 1"
   ]
  },
  {
   "cell_type": "code",
   "execution_count": 10,
   "id": "68a00e71",
   "metadata": {},
   "outputs": [
    {
     "data": {
      "text/plain": [
       "array([0, 0])"
      ]
     },
     "execution_count": 10,
     "metadata": {},
     "output_type": "execute_result"
    }
   ],
   "source": [
    "A_trans = T@ A\n",
    "A_trans"
   ]
  },
  {
   "cell_type": "code",
   "execution_count": 13,
   "id": "2bd22b53",
   "metadata": {},
   "outputs": [
    {
     "data": {
      "text/plain": [
       "array([2, 1])"
      ]
     },
     "execution_count": 13,
     "metadata": {},
     "output_type": "execute_result"
    }
   ],
   "source": [
    "B_trans = T @ B\n",
    "B_trans"
   ]
  },
  {
   "cell_type": "code",
   "execution_count": 14,
   "id": "d3b5e6ba",
   "metadata": {},
   "outputs": [
    {
     "data": {
      "text/plain": [
       "array([1, 3])"
      ]
     },
     "execution_count": 14,
     "metadata": {},
     "output_type": "execute_result"
    }
   ],
   "source": [
    "C_trans = T @ C\n",
    "C_trans"
   ]
  },
  {
   "cell_type": "markdown",
   "id": "681ea2f9",
   "metadata": {},
   "source": [
    "Question 2"
   ]
  },
  {
   "cell_type": "code",
   "execution_count": 20,
   "id": "717de722",
   "metadata": {},
   "outputs": [
    {
     "data": {
      "text/plain": [
       "np.float64(5.0)"
      ]
     },
     "execution_count": 20,
     "metadata": {},
     "output_type": "execute_result"
    }
   ],
   "source": [
    "#Determinant of Transformation matrix \n",
    "D = np.round(np.linalg.det(T),2)\n",
    "D\n"
   ]
  },
  {
   "cell_type": "code",
   "execution_count": 21,
   "id": "e6699ce9",
   "metadata": {},
   "outputs": [
    {
     "name": "stderr",
     "output_type": "stream",
     "text": [
      "C:\\Users\\rohit\\AppData\\Local\\Temp\\ipykernel_4604\\2345467954.py:4: DeprecationWarning: Arrays of 2-dimensional vectors are deprecated. Use arrays of 3-dimensional vectors instead. (deprecated in NumPy 2.0)\n",
      "  return 0.5 * abs(np.cross(u,v))\n"
     ]
    }
   ],
   "source": [
    "def area(a,b,c):\n",
    "    u = b - a\n",
    "    v = c - a\n",
    "    return 0.5 * abs(np.cross(u,v))\n",
    "Original_area = area(A,B,C)\n",
    "transformed_area = area(A_trans, B_trans, C_trans)"
   ]
  },
  {
   "cell_type": "code",
   "execution_count": 22,
   "id": "938c297b",
   "metadata": {},
   "outputs": [
    {
     "name": "stdout",
     "output_type": "stream",
     "text": [
      "Orginal area is : 0.5\n",
      "Transformed area is : 2.5\n"
     ]
    }
   ],
   "source": [
    "print(f\"Orginal area is : {Original_area}\")\n",
    "print(f\"Transformed area is : {transformed_area}\")"
   ]
  },
  {
   "cell_type": "markdown",
   "id": "4c9114ce",
   "metadata": {},
   "source": [
    "From the above small experimentation we can show that Area(T(S))=∣det(A)∣⋅Area(S)"
   ]
  },
  {
   "cell_type": "markdown",
   "id": "f7de7512",
   "metadata": {},
   "source": [
    "Question 4 (Plots)\n"
   ]
  },
  {
   "cell_type": "code",
   "execution_count": null,
   "id": "8da9b29d",
   "metadata": {},
   "outputs": [
    {
     "data": {
      "image/png": "[encoded data removed]",
      "text/plain": [
       "<Figure size 640x480 with 1 Axes>"
      ]
     },
     "metadata": {},
     "output_type": "display_data"
    }
   ],
   "source": [
    "def plot_triangle(a,b,c, color, label, alpha = 0.3):\n",
    "    xs = [a[0], b[0], c[0], a[0]]\n",
    "    ys = [a[1], b[1], c[1], a[1]]\n",
    "    plt.plot(xs, ys, color = color, label = label) # Border\n",
    "    plt.fill(xs, ys, color = color, alpha = alpha) # Enclosed area \n",
    "\n",
    "plot_triangle(A,B,C, 'green', \"Original Traingle\")\n",
    "plot_triangle(A_trans, B_trans, C_trans, 'blue', 'Transformed traingle')\n",
    "plt.gca().set_aspect('equal') # scales the x-axis and y-axis equally\n",
    "plt.legend()\n",
    "plt.grid(True)\n",
    "plt.title(\"Triangle Before and After Transformation\")\n",
    "plt.show()\n"
   ]
  },
  {
   "cell_type": "code",
   "execution_count": null,
   "id": "085fdaa5",
   "metadata": {},
   "outputs": [],
   "source": []
  }
 ],
 "metadata": {
  "kernelspec": {
   "display_name": "Python 3",
   "language": "python",
   "name": "python3"
  },
  "language_info": {
   "codemirror_mode": {
    "name": "ipython",
    "version": 3
   },
   "file_extension": ".py",
   "mimetype": "text/x-python",
   "name": "python",
   "nbconvert_exporter": "python",
   "pygments_lexer": "ipython3",
   "version": "3.13.5"
  }
 },
 "nbformat": 4,
 "nbformat_minor": 5
}
